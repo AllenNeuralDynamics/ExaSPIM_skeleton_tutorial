{
 "cells": [
  {
   "cell_type": "markdown",
   "id": "b0665e4a-ee00-489f-8229-be4d8b9068a4",
   "metadata": {},
   "source": [
    "<div style=\"border-left: 3px solid #000; padding: 1px; padding-left: 10px; background: #F0FAFF; \">\n",
    "    \n",
    "# Section 1: Introduction\n",
    "\n",
    "The main objective of this notebook is to analyze the whole-brain connectivity of neurons imaged via Light Microscopy (LM). The neurons in this dataset are acquired by imaging the volume of an entire brain wherein a small number of cells are sparsely labelled, and then tracing the axons and dendrites of those cells to reconstruct their full morphologies. Neurons from several brains are integrated by aligning each sample to the Common Coordinate Framework. \n",
    "\n"
   ]
  },
  {
   "cell_type": "markdown",
   "id": "12d9d395-f740-4afb-8562-b0d2eefc6a2c",
   "metadata": {},
   "source": [
    "General Imports"
   ]
  },
  {
   "cell_type": "code",
   "execution_count": 1,
   "id": "3301f725-d1bd-4c3c-9990-7059b75b618d",
   "metadata": {
    "tags": []
   },
   "outputs": [],
   "source": [
    "import matplotlib.pyplot as plt\n",
    "import numpy as np\n",
    "from pprint import pprint\n",
    "import os\n",
    "# config.write_default_config()\n",
    "\n",
    "%matplotlib inline\n",
    "\n",
    "data_root = \"/data/\""
   ]
  },
  {
   "cell_type": "markdown",
   "id": "27b8019a-9144-4b8c-b14e-5058eb4f86d7",
   "metadata": {},
   "source": [
    "<div style=\"border-left: 3px solid #000; padding: 1px; padding-left: 10px; background: #F0FAFF; \">\n",
    "    \n",
    "## The Common Coordinate Framework (CCF)\n",
    "\n",
    "Let's first get familiar with soom tools for interacting with the Common Coordinate Framework (or CCF). We are going to use BrainGlobe to access the Allen Mouse Atlas. BrainGlobe is a software package that facilitates use of different brain atlases to examine anatomical data. You can learn more [here](https://brainglobe.info/about.html).\n",
    "\n",
    "In the Allen Mouse Atlas, each structure in the brain is identified with a name, an acronym, and an id. We use these to annotate our anatomical data. Being able to reference the atlas helps us to make sense of those annotations.\n",
    "    \n",
    "You see more about the CCF [here](https://allenswdb.github.io/background/CCF.html).\n",
    "\n"
   ]
  },
  {
   "cell_type": "markdown",
   "id": "41963f6f-fa83-4487-9d47-511ef1a218ba",
   "metadata": {},
   "source": [
    "Imports for the CCF and BrainGlobe"
   ]
  },
  {
   "cell_type": "code",
   "execution_count": 2,
   "id": "00359c2d-c6c7-4a3b-b8e0-36afcee019ca",
   "metadata": {
    "tags": []
   },
   "outputs": [],
   "source": [
    "from brainglobe_atlasapi import BrainGlobeAtlas\n",
    "import brainglobe_atlasapi as atlasapi\n",
    "from brainglobe_atlasapi import config\n",
    "\n",
    "from utils.ccf_utils import get_ccf_property"
   ]
  },
  {
   "cell_type": "code",
   "execution_count": 3,
   "id": "727cbf57-6b49-4804-b3de-7a1f51a928fd",
   "metadata": {
    "tags": []
   },
   "outputs": [
    {
     "name": "stdout",
     "output_type": "stream",
     "text": [
      "This is a look up table which stores basic information about each structure...\n",
      "\n",
      "    acronym   id                                name\n",
      "0      root  997                                root\n",
      "1      grey    8       Basic cell groups and regions\n",
      "2        CH  567                            Cerebrum\n",
      "3       CTX  688                     Cerebral cortex\n",
      "4     CTXpl  695                      Cortical plate\n",
      "..      ...  ...                                 ...\n",
      "835      V3  129                     third ventricle\n",
      "836      AQ  140                   cerebral aqueduct\n",
      "837      V4  145                    fourth ventricle\n",
      "838     V4r  153                      lateral recess\n",
      "839       c  164  central canal, spinal cord/medulla\n",
      "\n",
      "[840 rows x 3 columns]\n"
     ]
    }
   ],
   "source": [
    "# Load ccf atlas\n",
    "brain_globe_path = os.path.join(data_root, \".brainglobe\")\n",
    "atlasapi.config.write_config_value('brainglobe_dir', brain_globe_path)\n",
    "ccf_atlas = BrainGlobeAtlas('allen_mouse_10um') #here we specify which atlas we want to use\n",
    "\n",
    "# Print important data structures in \"ccf_atlas\"\n",
    "print(\"This is a look up table which stores basic information about each structure...\\n\")\n",
    "print(ccf_atlas.lookup_df)\n",
    "\n"
   ]
  },
  {
   "cell_type": "markdown",
   "id": "a2e23656-f787-48ca-82ae-3abef60faece",
   "metadata": {},
   "source": [
    "<div style=\"padding: 1px; padding-left: 10px; background: #F0FAFF; \">\n",
    "\n",
    "The CCF has a hierarchical structure, reflecting the organization of anatomical structures into substructures. To see that hierarchy, uncomment the lines below and run the cell. (The output is very long so we don't run it by default)"
   ]
  },
  {
   "cell_type": "code",
   "execution_count": 4,
   "id": "099b7a52-e8e8-4c88-97b6-7d422825e75a",
   "metadata": {},
   "outputs": [],
   "source": [
    "# print(\"\\n This is the hierarchy of regions stored in the ccf\")\n",
    "# print(ccf_atlas.structures)"
   ]
  },
  {
   "cell_type": "markdown",
   "id": "28d2c7c1-bac4-4f2f-8f1b-331516956fc6",
   "metadata": {},
   "source": [
    "<div style=\"padding: 1px; padding-left: 10px; background: #F0FAFF; \">\n",
    "\n",
    "We can extract information about a given region in the ccf by querying from `ccf_atlas.structures` using either the ccf id or the acronym of a given structure. </font>\n",
    "    "
   ]
  },
  {
   "cell_type": "code",
   "execution_count": 5,
   "id": "7d6549d9-3f16-42a7-adae-266ad040a170",
   "metadata": {
    "tags": []
   },
   "outputs": [
    {
     "name": "stdout",
     "output_type": "stream",
     "text": [
      "{'acronym': 'SSp-bfd6b',\n",
      " 'id': 1062,\n",
      " 'mesh': None,\n",
      " 'mesh_filename': PosixPath('/data/.brainglobe/allen_mouse_10um_v1.2/meshes/1062.obj'),\n",
      " 'name': 'Primary somatosensory area, barrel field, layer 6b',\n",
      " 'rgb_triplet': [24, 128, 100],\n",
      " 'structure_id_path': [997, 8, 567, 688, 695, 315, 453, 322, 329, 1062]}\n"
     ]
    }
   ],
   "source": [
    "ccf_id = 1062\n",
    "pprint(ccf_atlas.structures[ccf_id])"
   ]
  },
  {
   "cell_type": "code",
   "execution_count": 6,
   "id": "1b69feb1-df09-4e51-b5dc-e1a4a7bf13bf",
   "metadata": {
    "tags": []
   },
   "outputs": [
    {
     "name": "stdout",
     "output_type": "stream",
     "text": [
      "{'acronym': 'VISp4',\n",
      " 'id': 721,\n",
      " 'mesh': None,\n",
      " 'mesh_filename': PosixPath('/data/.brainglobe/allen_mouse_10um_v1.2/meshes/721.obj'),\n",
      " 'name': 'Primary visual area, layer 4',\n",
      " 'rgb_triplet': [8, 133, 140],\n",
      " 'structure_id_path': [997, 8, 567, 688, 695, 315, 669, 385, 721]}\n"
     ]
    }
   ],
   "source": [
    "pprint(ccf_atlas.structures['VISp4'])"
   ]
  },
  {
   "cell_type": "markdown",
   "id": "ca1d5571-11dd-408c-b1b5-2b4a209958af",
   "metadata": {},
   "source": [
    "<div style=\"padding: 1px; padding-left: 10px; background: #F0FAFF; \">\n",
    "\n",
    "Among the properties of the structure is the \"structure_id_path\". This shows the full path of the structure within the hierarchy. Notice that the last item in that list is the id of the structure itself. The items before that are the structure's \"ancestors\". The function `get_structure_ancestors` will print the acronyms of all the ancestors in the specified structure's path."
   ]
  },
  {
   "cell_type": "code",
   "execution_count": 7,
   "id": "26a5b731-76dd-4e61-bb5e-f0a3bef8e8bf",
   "metadata": {
    "tags": []
   },
   "outputs": [
    {
     "data": {
      "text/plain": [
       "['root', 'grey', 'CH', 'CTX', 'CTXpl', 'Isocortex', 'SS', 'SSp', 'SSp-bfd']"
      ]
     },
     "execution_count": 7,
     "metadata": {},
     "output_type": "execute_result"
    }
   ],
   "source": [
    "ccf_atlas.get_structure_ancestors(ccf_id)"
   ]
  },
  {
   "cell_type": "markdown",
   "id": "e24d1f43-ce3e-4391-90d4-bb8126c2e32d",
   "metadata": {},
   "source": [
    "<div style=\"padding: 1px; padding-left: 10px; background: #F0FAFF; \">\n",
    "\n",
    "On the other side of the coin, some structures have \"descendants\" - substructures that are contained within them, and we can access them using `get_structure_descendants`."
   ]
  },
  {
   "cell_type": "code",
   "execution_count": 8,
   "id": "0af347f0-182d-4889-8311-aba0bfedbce6",
   "metadata": {
    "tags": []
   },
   "outputs": [
    {
     "data": {
      "text/plain": [
       "['VISp1', 'VISp2/3', 'VISp4', 'VISp5', 'VISp6a', 'VISp6b']"
      ]
     },
     "execution_count": 8,
     "metadata": {},
     "output_type": "execute_result"
    }
   ],
   "source": [
    "ccf_atlas.get_structure_descendants('VISp')"
   ]
  },
  {
   "cell_type": "markdown",
   "id": "c3c42a52-8551-4539-bbc1-40f908e4385e",
   "metadata": {},
   "source": [
    "<div style=\"border-left: 3px solid #000; padding: 1px; padding-left: 10px; background: #F0FAFF; \">\n",
    "\n",
    "## Inputs/Outputs of a Single Neuron\n",
    "\n",
    "Our journey to understand how the brain is connected begins with analyzing how a single neuron connects different regions. We'll begin by choosing a skeleton from our dataset.\n",
    "    \n",
    "To start, we need to examine some of the morphological features of a single neuron. We will load the reconstructed <b>skeleton</b>. A precomputed skeleton is a simplified representation of a neuron where its shape is captured by a tree-like structure that passes through the center of the neuron. More specificy, a precomputed skeleton stores a neuron as a graph with vertices and edges in addition to a collection of vertex-attached attributes that capture morphological and anatomical information about the neuron.\n",
    "\n",
    "    \n",
    " Each vertex of the skeleton is an [x,y,z] coordinate. The vertices and their edges form a 'geometric graph'\n",
    "    \n",
    "<p> Note: Observe that many attributes such as \"radius\" and \"compartment\" have the same shape as \"vertices\". Each vertex may also be associated with one or more other properties, including:\n",
    "<ul>\n",
    "    <li> <code>radius</code>: the estimated cross-section radius of the segment\n",
    "    <li> <code>compartment</code>: whether the segment belongs to the axon, dendrite, or soma. \n",
    "</ul>\n",
    "\n",
    "<p>We will see these properties rendered later in this notebook, and discuss the other properties synapse properties in later notebooks. \n",
    "\n",
    "</div>"
   ]
  },
  {
   "cell_type": "markdown",
   "id": "a1d6c5a4-7fbf-4b8e-8702-76eaa84ac6db",
   "metadata": {
    "tags": []
   },
   "source": [
    "\n",
    "<img src=\"attachment:4b6ade1b-3db3-44bd-9c94-277dc93a20e5.png\" width=\"600\">\n",
    "Image from Kötter, R., Ascoli, G. A., Krichmar, J. L., Nasuto, S. J., & Senft, S. L. (2001)"
   ]
  },
  {
   "cell_type": "markdown",
   "id": "039bcdc7-6756-4609-b555-1363213ef985",
   "metadata": {},
   "source": [
    "To look at these neurons, let's import some utility functions for loading and visualizing the skeletons, and then load all of the data in our capsule. This will take a minute."
   ]
  },
  {
   "cell_type": "code",
   "execution_count": 9,
   "id": "71098c40-4426-49dd-b21a-cd17aeb14179",
   "metadata": {
    "tags": []
   },
   "outputs": [
    {
     "name": "stderr",
     "output_type": "stream",
     "text": [
      "WARNING:root:Need to pip install caveclient to repair mesh with pychunkedgraph\n",
      "WARNING:root:Need to pip install caveclient to use dataset_name parameters\n"
     ]
    }
   ],
   "source": [
    "#imports\n",
    "from utils.ccf_utils import get_ccf_ids\n",
    "from utils.skeleton_loading_utils import number_of_samples, load_lm_datasets, progress_bar\n",
    "import skeleton_plot as skelplot"
   ]
  },
  {
   "cell_type": "code",
   "execution_count": 10,
   "id": "7dc35135-134d-4be4-b954-c37012ce2994",
   "metadata": {
    "tags": []
   },
   "outputs": [
    {
     "name": "stdout",
     "output_type": "stream",
     "text": [
      "Loading datasets...\n",
      "exaSPIM_609281_2022-11-03_13-49-18_reconstructions/precomputed:  [==================================================] 25/25\n",
      "exaSPIM_651324_2023-03-06_15-13-25_reconstructions/precomputed:  [==================================================] 13/13\n",
      "exaSPIM_653158_2023-06-01_20-41-38_reconstructions/precomputed:  [==================================================] 42/42\n",
      "exaSPIM_653980_2023-08-10_20-08-29_reconstructions/precomputed:  [==================================================] 21/21\n",
      "mouselight_reconstructions/precomputed:  [==================================================] 1549/1549\n"
     ]
    }
   ],
   "source": [
    "#load full dataset\n",
    "skel_list = load_lm_datasets(data_root)"
   ]
  },
  {
   "cell_type": "markdown",
   "id": "15bac903-8ea9-44fe-8abd-f100b1e5db02",
   "metadata": {},
   "source": [
    "How many total neurons are contained within these datasets?"
   ]
  },
  {
   "cell_type": "code",
   "execution_count": 11,
   "id": "7d60155c-f7a9-467d-9a4c-350369f91eed",
   "metadata": {
    "tags": []
   },
   "outputs": [
    {
     "data": {
      "text/plain": [
       "1650"
      ]
     },
     "execution_count": 11,
     "metadata": {},
     "output_type": "execute_result"
    }
   ],
   "source": [
    "len(skel_list)"
   ]
  },
  {
   "cell_type": "markdown",
   "id": "62201686-dc0e-45dd-b012-eb4c408221e6",
   "metadata": {},
   "source": [
    "<div style=\"padding: 1px; padding-left: 10px; background: #F0FAFF; \">\n",
    "\n",
    "We'll begin by looking at one skeleton."
   ]
  },
  {
   "cell_type": "code",
   "execution_count": 12,
   "id": "8e184495-7ffb-4627-9425-1f9abf756617",
   "metadata": {
    "tags": []
   },
   "outputs": [],
   "source": [
    "skel = skel_list[56]"
   ]
  },
  {
   "cell_type": "markdown",
   "id": "5208edf0-2cc6-41cb-a45b-86530181da7e",
   "metadata": {},
   "source": [
    "<div style=\"padding: 1px; padding-left: 10px; background: #F0FAFF; \">\n",
    "\n",
    "The `vertices` are the positions of each node of the graph"
   ]
  },
  {
   "cell_type": "code",
   "execution_count": 13,
   "id": "70afcc43-604b-41d5-a554-d397076466cf",
   "metadata": {
    "tags": []
   },
   "outputs": [
    {
     "data": {
      "text/plain": [
       "array([[6143497. , 3803408.8, 6324864. ],\n",
       "       [6158765. , 3786851.5, 6331207. ],\n",
       "       [6164758. , 3774748.8, 6330786. ],\n",
       "       ...,\n",
       "       [4220296. , 5385288.5, 7220468. ],\n",
       "       [4226167.5, 5395354.5, 7209050.5],\n",
       "       [4238044.5, 5408118. , 7193656. ]], dtype=float32)"
      ]
     },
     "execution_count": 13,
     "metadata": {},
     "output_type": "execute_result"
    }
   ],
   "source": [
    "skel.vertices"
   ]
  },
  {
   "cell_type": "markdown",
   "id": "af9556e7-88c8-43f7-b46b-a090bc668e05",
   "metadata": {},
   "source": [
    "<div style=\"padding: 1px; padding-left: 10px; background: #F0FAFF; \">\n",
    "\n",
    "The `vertices_properties` provide important information about each vertex, including the CCF id, the compartment, and the radius (though for all our data, the radius does not vary)."
   ]
  },
  {
   "cell_type": "code",
   "execution_count": 14,
   "id": "d1b40a0d-3df4-43e6-8d4e-f44574849c02",
   "metadata": {
    "tags": []
   },
   "outputs": [
    {
     "data": {
      "text/plain": [
       "{'ccf': array([362, 362, 362, ...,  56,  56,  56]),\n",
       " 'compartment': array([1, 3, 3, ..., 2, 2, 2]),\n",
       " 'radius': array([1., 1., 1., ..., 1., 1., 1.], dtype=float32)}"
      ]
     },
     "execution_count": 14,
     "metadata": {},
     "output_type": "execute_result"
    }
   ],
   "source": [
    "skel.vertex_properties"
   ]
  },
  {
   "cell_type": "markdown",
   "id": "3b69cebf-370e-4371-a221-37395c96ac61",
   "metadata": {
    "tags": []
   },
   "source": [
    "<div style=\"padding: 1px; padding-left: 10px; background: #F0FAFF; \">\n",
    "       \n",
    "**Note about morphological compartments:** The compartment types defined at each vertex adhere to standardized conventions for neuronal morphologies saved as swc files (for more information, see here: <a href=\"www.neuromorpho.org\">www.neuromorpho.org</a>). These conventions are as follows:\n",
    "    \n",
    "<ul>\n",
    "<li> 0 - undefined\n",
    "<li> 1 - soma\n",
    "<li> 2 - axon\n",
    "<li> 3 - (basal) dendrite\n",
    "<li> 4 - apical dendrite\n",
    "<li> 5+ - custom\n",
    "</ul>\n",
    "\n",
    "In most of these neurons, distinctions were not made between basal or apical dendrites - therefore dendrites should almost exclusively map to compartment type \"3\". \n",
    "\n",
    "</div>"
   ]
  },
  {
   "cell_type": "markdown",
   "id": "02ab6caa-b24d-43dd-883e-2f7ab46f923e",
   "metadata": {},
   "source": [
    "<div style=\"padding: 1px; padding-left: 10px; background: #F0FAFF; \">\n",
    "\n",
    "There are other properties we'll look at in the skeleton including the `root` (the vertex that is the soma) as well as `end_points` or `branch_points`. Calling these properties indicates which vertices have those attributes."
   ]
  },
  {
   "cell_type": "code",
   "execution_count": 15,
   "id": "b58ca76a-d246-45e7-ada4-8fd48c1645ab",
   "metadata": {
    "tags": []
   },
   "outputs": [
    {
     "data": {
      "text/plain": [
       "array(0)"
      ]
     },
     "execution_count": 15,
     "metadata": {},
     "output_type": "execute_result"
    }
   ],
   "source": [
    "skel.root"
   ]
  },
  {
   "cell_type": "code",
   "execution_count": 16,
   "id": "55ef6852-b40e-4ca2-910e-e131fbe0ceb3",
   "metadata": {
    "tags": []
   },
   "outputs": [
    {
     "data": {
      "text/plain": [
       "array([ 26,  32,  50,  62,  69,  78,  83,  86,  95, 114, 122, 130, 141,\n",
       "       160, 169, 176, 184, 197, 211, 227])"
      ]
     },
     "execution_count": 16,
     "metadata": {},
     "output_type": "execute_result"
    }
   ],
   "source": [
    "skel.end_points[:20]"
   ]
  },
  {
   "cell_type": "markdown",
   "id": "96a30d94-aaaa-4bcd-9e0c-1891e5c19d1d",
   "metadata": {},
   "source": [
    "<div style=\"padding: 1px; padding-left: 10px; background: #F0FAFF; \">\n",
    "\n",
    "We could start to look at the shape of the skeleton by starting to plot the vertices. Let's plot the first 200 vertices"
   ]
  },
  {
   "cell_type": "code",
   "execution_count": 17,
   "id": "7dd2a2aa-eeb2-495e-b5d1-dcda4a54e24c",
   "metadata": {
    "tags": []
   },
   "outputs": [
    {
     "data": {
      "text/plain": [
       "Text(0, 0.5, 'Y')"
      ]
     },
     "execution_count": 17,
     "metadata": {},
     "output_type": "execute_result"
    },
    {
     "data": {
      "image/png": "[encoded data removed]",
      "text/plain": [
       "<Figure size 640x480 with 1 Axes>"
      ]
     },
     "metadata": {},
     "output_type": "display_data"
    }
   ],
   "source": [
    "for i in range(200):\n",
    "    plt.plot(skel.vertices[i,0], skel.vertices[i,1], 'k.')\n",
    "    \n",
    "plt.xlabel(\"X\")\n",
    "plt.ylabel(\"Y\")"
   ]
  },
  {
   "cell_type": "markdown",
   "id": "c34d6206-00e3-4182-b822-bc3c7f93f55f",
   "metadata": {},
   "source": [
    "<div style=\"padding: 1px; padding-left: 10px; background: #F0FAFF; \">\n",
    "\n",
    "<p> With 10,000 vertices, that's not an efficient way to look at these skeletons. Instead, we can use some common tools to visualize the skeleton in both 2D and 3D. First, we'll use `skelplot` to look at it in 2D.\n",
    "    \n",
    "Key things we're going to specify is which skeleton to plot, which colors to use for the different compartments, and which two axes to use. Here we'll plot x and y.\n",
    "</div>"
   ]
  },
  {
   "cell_type": "code",
   "execution_count": 18,
   "id": "a98c8af4-8688-411a-92a1-cc7096d4a5e1",
   "metadata": {
    "tags": []
   },
   "outputs": [
    {
     "data": {
      "text/plain": [
       "(2715245.25, 6291975.0, 6244127.5, 2641605.75)"
      ]
     },
     "execution_count": 18,
     "metadata": {},
     "output_type": "execute_result"
    },
    {
     "data": {
      "image/png": "[encoded data removed]",
      "text/plain": [
       "<Figure size 700x700 with 1 Axes>"
      ]
     },
     "metadata": {},
     "output_type": "display_data"
    }
   ],
   "source": [
    "f, ax = plt.subplots(figsize=(7, 7))\n",
    "\n",
    "skelplot.plot_tools.plot_skel(\n",
    "    skel,\n",
    "    line_width=1,\n",
    "    plot_soma=True,\n",
    "    invert_y=True,\n",
    "    pull_compartment_colors=True,\n",
    "    skel_color_map={0: \"tab:green\", 1: \"tab:red\", 2: \"tab:blue\", 3: \"tab:orange\"},\n",
    "    x=\"x\",\n",
    "    y=\"y\",\n",
    ")\n",
    "\n",
    "ax.spines['right'].set_visible(False) \n",
    "ax.spines['left'].set_visible(False) \n",
    "ax.spines['top'].set_visible(False) \n",
    "ax.spines['bottom'].set_visible(False)\n",
    "ax.axis('off')    "
   ]
  },
  {
   "cell_type": "markdown",
   "id": "44879d95-9954-4cf2-99a0-7935dd297037",
   "metadata": {},
   "source": [
    "<div style=\"background: #DFF0D8; border-radius: 3px; padding: 10px;\">\n",
    "<font size=\"4\"> <p>Can you use skelplot to plot x vs z instead? Copy and paste the code from above and make modifications:\n",
    "</div>"
   ]
  },
  {
   "cell_type": "code",
   "execution_count": null,
   "id": "41a1adc5-f4c3-4666-898f-878813a8d9f2",
   "metadata": {},
   "outputs": [],
   "source": []
  },
  {
   "cell_type": "markdown",
   "id": "07e44ad7-b384-42b5-b49b-4ee6c982beb5",
   "metadata": {},
   "source": [
    "<div style=\"padding: 1px; padding-left: 10px; background: #F0FAFF; \">\n",
    "\n",
    "<p> Now let's look at this neuron in 3 dimensions. First, we'll define some plotting functions. You don't need to understand these.\n",
    "    \n",
    "The cell below creates the plot, adding the skeleton as well as a mesh of the entire mouse brain, and the CCF region where this one skeleton's soma is located. You can zoom and spin to examine this in more detail.\n",
    "</div>"
   ]
  },
  {
   "cell_type": "code",
   "execution_count": 19,
   "id": "f2b87ddc-542e-4126-baea-0007f4059b4b",
   "metadata": {
    "tags": []
   },
   "outputs": [],
   "source": [
    "# Imports\n",
    "import k3d\n",
    "import random\n",
    "import trimesh\n",
    "import os\n",
    "\n",
    "# Define plotting functions to turn a skeleton into line objects\n",
    "def plot_graphs(graphs, plot, color = None, opacity = 1):\n",
    "    for i, g in enumerate(graphs):\n",
    "        if color == None:\n",
    "            colorstr = \"%06x\" % random.randint(0, 0xFFFFFF)\n",
    "            c  = int(colorstr, 16) + 0x200\n",
    "        elif type(color) == type([]):\n",
    "            c = color[i]\n",
    "        else:\n",
    "            c = color\n",
    "        plot += graph_to_lines(g,c,opacity)\n",
    "        \n",
    "def graph_to_lines(g, color=None, opacity = 1):\n",
    "    lines = k3d.factory.lines(\n",
    "        g.vertices,\n",
    "        g.edges,\n",
    "        indices_type='segment', \n",
    "        width=1, shader='simple',\n",
    "        color=color,\n",
    "        opacity=opacity\n",
    "    )\n",
    "    return lines\n",
    "\n",
    "def get_whole_ccf_mesh():\n",
    "    ''' Gets the mesh of the whole mouse brain '''\n",
    "    \n",
    "    mesh_path = os.path.join(data_root, \"AllenCCFMesh\", \"MouseBrainAllen3.obj\")\n",
    "    with open(mesh_path) as f:\n",
    "        return trimesh.load(f, 'obj')\n",
    "\n",
    "def get_region_ccf_mesh(ccf_id):\n",
    "    ''' Gets the mesh of a specific brain region '''\n",
    "    \n",
    "    mesh_path = get_ccf_property(ccf_atlas, ccf_id, \"mesh_filename\")\n",
    "    try:\n",
    "        with open(mesh_path) as f:\n",
    "            return trimesh.load(f, 'obj')\n",
    "    except:\n",
    "        print(\"Mesh does not exist!\")\n"
   ]
  },
  {
   "cell_type": "code",
   "execution_count": 20,
   "id": "887dfe36-3a6d-436b-ab2c-721f5b058031",
   "metadata": {
    "tags": []
   },
   "outputs": [
    {
     "data": {
      "application/vnd.jupyter.widget-view+json": {
       "model_id": "bd8bda5fa6e94c3186c6296650c5af39",
       "version_major": 2,
       "version_minor": 0
      },
      "text/plain": [
       "Output()"
      ]
     },
     "metadata": {},
     "output_type": "display_data"
    }
   ],
   "source": [
    "# Generate plot\n",
    "plot = k3d.plot()\n",
    "\n",
    "#plot the specified skeleton\n",
    "plot_graphs([skel], plot)\n",
    "\n",
    "# Add whole ccf mesh\n",
    "ccf_mesh = get_whole_ccf_mesh()\n",
    "mesh_plot = k3d.mesh(ccf_mesh.vertices*1000, ccf_mesh.faces, opacity=0.2, color=808080)\n",
    "plot += mesh_plot\n",
    "\n",
    "# Add mesh of the ccf region of the soma\n",
    "soma_ccf_id = get_ccf_ids(ccf_atlas, skel, compartment_type=1)[0]\n",
    "region_mesh = get_region_ccf_mesh(soma_ccf_id)\n",
    "region_mesh_plot = k3d.mesh(region_mesh.vertices*1000, region_mesh.faces, opacity=0.2)\n",
    "plot += region_mesh_plot\n",
    "\n",
    "plot.display()"
   ]
  },
  {
   "cell_type": "markdown",
   "id": "f8abebcd-0d6d-4358-a7e0-056d295ea0ed",
   "metadata": {},
   "source": [
    "<div style=\"padding: 1px; padding-left: 10px; background: #F0FAFF; \">\n",
    "Now that we've visualized the neuron, let's see what we can learn about its inputs and outputs. We can use the skeleton to look at the ccf locations of the different parts of the cell. \n",
    "We will use a convenience function we've provided called `get_ccf_ids`. This function allows us to specify the compartment type and the vertex properties (e.g. branch point, end point) to find the CCF id for specific types of vertices.</p>\n",
    " \n",
    "    \n",
    "<p>Let's start by looking at the location of the soma\n",
    "</div>"
   ]
  },
  {
   "cell_type": "code",
   "execution_count": 21,
   "id": "68c31ff9-c5fd-4d4f-b4b9-a0705d5087cd",
   "metadata": {
    "tags": []
   },
   "outputs": [
    {
     "name": "stdout",
     "output_type": "stream",
     "text": [
      "{'acronym': 'MD',\n",
      " 'id': 362,\n",
      " 'mesh': None,\n",
      " 'mesh_filename': PosixPath('/data/.brainglobe/allen_mouse_10um_v1.2/meshes/362.obj'),\n",
      " 'name': 'Mediodorsal nucleus of thalamus',\n",
      " 'rgb_triplet': [255, 144, 159],\n",
      " 'structure_id_path': [997, 8, 343, 1129, 549, 856, 444, 362]}\n"
     ]
    }
   ],
   "source": [
    "soma_ccf = get_ccf_ids(ccf_atlas, skel, compartment_type=1) \n",
    "pprint(ccf_atlas.structures[soma_ccf[0]])"
   ]
  },
  {
   "cell_type": "markdown",
   "id": "980fbabc-3519-48e4-9d21-301bf1434cac",
   "metadata": {},
   "source": [
    "<div style=\"padding: 1px; padding-left: 10px; background: #F0FAFF; \">\n",
    "Now let's find the dendritic end_points. We need to specify the compartment_type (see table above) and the vertex_type\n",
    "</div>"
   ]
  },
  {
   "cell_type": "code",
   "execution_count": 22,
   "id": "2a5656ea-aa98-4e1d-8f51-8c408189c0dc",
   "metadata": {
    "tags": []
   },
   "outputs": [],
   "source": [
    "dendrite_endpoints_ccf = get_ccf_ids(ccf_atlas, skel, compartment_type=3, vertex_type=\"end_points\")"
   ]
  },
  {
   "cell_type": "markdown",
   "id": "cf53d775-dffe-4e02-ba1a-6140dab2b7d4",
   "metadata": {
    "tags": []
   },
   "source": [
    "<div style=\"padding: 1px; padding-left: 10px; background: #F0FAFF; \">\n",
    "How many endpoints are there?\n",
    "</div>"
   ]
  },
  {
   "cell_type": "code",
   "execution_count": 23,
   "id": "713b6605-eeb2-4449-a0ca-2d145091027b",
   "metadata": {
    "tags": []
   },
   "outputs": [
    {
     "data": {
      "text/plain": [
       "55"
      ]
     },
     "execution_count": 23,
     "metadata": {},
     "output_type": "execute_result"
    }
   ],
   "source": [
    "len(dendrite_endpoints_ccf)"
   ]
  },
  {
   "cell_type": "markdown",
   "id": "6bd6e3e0-64e8-40f3-94c5-d6897d2ea60f",
   "metadata": {},
   "source": [
    "<div style=\"padding: 1px; padding-left: 10px; background: #F0FAFF; \">\n",
    "Where are the unique structures where these endpoints are located?\n",
    "</div>"
   ]
  },
  {
   "cell_type": "code",
   "execution_count": 24,
   "id": "5d2b9c83-5f7d-4d6f-a533-38155dbacfc4",
   "metadata": {
    "tags": []
   },
   "outputs": [
    {
     "name": "stdout",
     "output_type": "stream",
     "text": [
      "13 dendrite endpoints in Anterodorsal nucleus\n",
      "2 dendrite endpoints in Anteroventral nucleus of thalamus\n",
      "22 dendrite endpoints in Mediodorsal nucleus of thalamus\n",
      "3 dendrite endpoints in stria medullaris\n",
      "15 dendrite endpoints in Interanterodorsal nucleus of the thalamus\n"
     ]
    }
   ],
   "source": [
    "for ccfid in np.unique(dendrite_endpoints_ccf): #For each unique id in the list of endpoints \n",
    "    if ccfid>0:\n",
    "        #count the number of endpoints with that id\n",
    "        #print the result\n",
    "        print(str(len(np.where(dendrite_endpoints_ccf==ccfid)[0])) + \" dendrite endpoints in \" + ccf_atlas.structures[ccfid][\"name\"])"
   ]
  },
  {
   "cell_type": "markdown",
   "id": "39fbbe75-4981-4a6b-afd6-8dc4eca6c6ad",
   "metadata": {},
   "source": [
    "<div style=\"background: #DFF0D8; border-radius: 3px; padding: 10px;\">\n",
    "<font size=\"4\"> <p>Find the unique structures for the axon endpoints.\n",
    "</div>"
   ]
  },
  {
   "cell_type": "code",
   "execution_count": 25,
   "id": "aae63fd2-4461-4d65-a119-dcd0bbe11da4",
   "metadata": {
    "tags": []
   },
   "outputs": [],
   "source": [
    "axon_endpoints_ccf = "
   ]
  },
  {
   "cell_type": "markdown",
   "id": "a721c9a4-62ba-4cbf-ab33-48809316e244",
   "metadata": {},
   "source": [
    "<div style=\"padding: 1px; padding-left: 10px; background: #F0FAFF; \">\n",
    "Let's make a bar plot of these locations, sorting the results. \n",
    "</div>"
   ]
  },
  {
   "cell_type": "code",
   "execution_count": 26,
   "id": "af630966-47e3-4b31-a94f-ebde2908f07d",
   "metadata": {
    "tags": []
   },
   "outputs": [
    {
     "data": {
      "image/png": "[encoded data removed]",
      "text/plain": [
       "<Figure size 1800x700 with 1 Axes>"
      ]
     },
     "metadata": {},
     "output_type": "display_data"
    }
   ],
   "source": [
    "#get the counts of endpoints for each unique location\n",
    "ids, cnts = np.unique(axon_endpoints_ccf, return_counts=True)\n",
    "\n",
    "#sort the resutls based on count, and order from largest to smallest\n",
    "cnts_sort = cnts[np.argsort(cnts)[::-1]]\n",
    "ids_sort = ids[np.argsort(cnts)[::-1]]\n",
    "\n",
    "# Get brain region names\n",
    "ccf_names = list()\n",
    "for ccf_id in ids_sort:\n",
    "    if ccf_id>0:\n",
    "        acronym = ccf_atlas.structures[ccf_id]['acronym']\n",
    "        ccf_names.append(acronym)\n",
    "    else:\n",
    "        ccf_names.append('NaN')\n",
    "    \n",
    "# Make plot\n",
    "plt.figure(figsize=(18, 7))\n",
    "#plot the number of endpoints, normalized to total number of endpoints\n",
    "plt.bar(ccf_names, cnts_sort/cnts_sort.sum())\n",
    "\n",
    "# Add titles and labels\n",
    "plt.xticks(rotation=45, ha='right')\n",
    "plt.title(\"Axon endpoints\", fontsize=18)\n",
    "plt.xlabel(\"Structures\", fontsize=15)\n",
    "plt.ylabel(\"Fraction of axonal endpoints\", fontsize=15)\n",
    "\n",
    "# Show the plot\n",
    "plt.show()"
   ]
  },
  {
   "cell_type": "markdown",
   "id": "3eb55652-3e35-4d12-93f8-c77f6fbb66d0",
   "metadata": {},
   "source": [
    "<div style=\"background: #DFF0D8; border-radius: 3px; padding: 10px;\">\n",
    "<font size=\"4\"> <p>What is the name of the structure with the most endpoints?\n",
    "</div>"
   ]
  },
  {
   "cell_type": "code",
   "execution_count": null,
   "id": "8fc31997-c427-4009-9d91-5154a198257c",
   "metadata": {},
   "outputs": [],
   "source": []
  },
  {
   "cell_type": "markdown",
   "id": "17ffcc31-762f-4ae5-9dd6-975c4dbbd319",
   "metadata": {},
   "source": [
    "<div style=\"border-left: 3px solid #000; padding: 1px; padding-left: 10px; background: #F0FAFF; \">\n",
    "\n",
    "## Where are our skeleton somas located\n",
    "\n",
    "We have 1650 skeletons loaded in this capsule. Let's see where these are located in the brain. \n",
    "To do this, we'll need to vertex location of the soma of each skeleton.\n",
    "\n",
    "\n",
    "</div>"
   ]
  },
  {
   "cell_type": "code",
   "execution_count": 27,
   "id": "fcfe88e7-39f6-495c-a98d-102af47ca069",
   "metadata": {
    "tags": []
   },
   "outputs": [
    {
     "data": {
      "text/plain": [
       "array([6143497. , 3803408.8, 6324864. ], dtype=float32)"
      ]
     },
     "execution_count": 27,
     "metadata": {},
     "output_type": "execute_result"
    }
   ],
   "source": [
    "skel.vertices[0]"
   ]
  },
  {
   "cell_type": "code",
   "execution_count": 28,
   "id": "214d08ed-d75a-48ac-8c90-1568fd3ae2ea",
   "metadata": {
    "tags": []
   },
   "outputs": [],
   "source": [
    "somas = []\n",
    "for i in range(len(skel_list)): #iterate across all skeletons\n",
    "    skel = skel_list[i]\n",
    "    somas.append(skel.vertices[skel.root]) #find the vertex of the root. Add to our list of soma locations\n",
    "    # try:\n",
    "        # soma_ids.append(ccf_atlas.structures[skel.vertex_properties['ccf'][0]]['id'])\n",
    "    # except:\n",
    "        # print(i)"
   ]
  },
  {
   "cell_type": "markdown",
   "id": "3077a94d-94fa-4cd0-886c-9ea7b56d9676",
   "metadata": {},
   "source": [
    "<div style=\"padding: 1px; padding-left: 10px; background: #F0FAFF; \">\n",
    "Let's plot this along with a mesh of the entire mouse brain. To do this we'll generate a 3D plot similar to the one above, but instead of adding a skeleton, we'll add a point for each soma.\n",
    "</div>"
   ]
  },
  {
   "cell_type": "code",
   "execution_count": 29,
   "id": "d32eb078-346b-4189-9d56-aeb19b910141",
   "metadata": {
    "tags": []
   },
   "outputs": [
    {
     "data": {
      "application/vnd.jupyter.widget-view+json": {
       "model_id": "ca34017d8dec41b5a121e0dd8cc0c561",
       "version_major": 2,
       "version_minor": 0
      },
      "text/plain": [
       "Output()"
      ]
     },
     "metadata": {},
     "output_type": "display_data"
    }
   ],
   "source": [
    "# Generate plot\n",
    "plot = k3d.plot()\n",
    "\n",
    "#plot each soma location\n",
    "points = k3d.points(positions=np.array(somas),\n",
    "                        point_size=100000,\n",
    "                        shader='3d',\n",
    "                        color=0xcc0000)\n",
    "plot += points\n",
    "\n",
    "# Add whole ccf mesh\n",
    "ccf_mesh = get_whole_ccf_mesh()\n",
    "mesh_plot = k3d.mesh(ccf_mesh.vertices*1000, ccf_mesh.faces, opacity=0.2, color=808080)\n",
    "plot += mesh_plot\n",
    "\n",
    "\n",
    "plot.display()"
   ]
  },
  {
   "cell_type": "markdown",
   "id": "c1b25ff0-1476-4359-a931-14fd31c856c2",
   "metadata": {},
   "source": [
    "<div style=\"padding: 1px; padding-left: 10px; background: #F0FAFF; \">\n",
    "Why are there more somas in certain regions?\n",
    "    \n",
    "Let's add meshes for some key brain structures: TH, MOs, HPF. \n",
    "What are these structures?\n",
    "</div>"
   ]
  },
  {
   "cell_type": "code",
   "execution_count": 30,
   "id": "26effcce-b825-43ed-9894-4dab837dcb10",
   "metadata": {
    "tags": []
   },
   "outputs": [
    {
     "data": {
      "application/vnd.jupyter.widget-view+json": {
       "model_id": "a8047842cd58407087313612ffc3eb85",
       "version_major": 2,
       "version_minor": 0
      },
      "text/plain": [
       "Output()"
      ]
     },
     "metadata": {},
     "output_type": "display_data"
    }
   ],
   "source": [
    "# Generate plot\n",
    "plot = k3d.plot()\n",
    "\n",
    "#plot each soma location\n",
    "points = k3d.points(positions=np.array(somas),\n",
    "                        point_size=100000,\n",
    "                        shader='3d',\n",
    "                        color=0xcc0000)\n",
    "plot += points\n",
    "\n",
    "# Add whole ccf mesh\n",
    "ccf_mesh = get_whole_ccf_mesh()\n",
    "mesh_plot = k3d.mesh(ccf_mesh.vertices*1000, ccf_mesh.faces, opacity=0.2, color=808080)\n",
    "plot += mesh_plot\n",
    "\n",
    "# Add region of ccf mesh\n",
    "region_id = ccf_atlas.structures['TH']['id']\n",
    "region_mesh = get_region_ccf_mesh(region_id)\n",
    "region_mesh_plot = k3d.mesh(region_mesh.vertices*1000, region_mesh.faces, opacity=0.2)\n",
    "plot += region_mesh_plot\n",
    "\n",
    "# Add region of ccf mesh\n",
    "region_id = ccf_atlas.structures['MOs']['id']\n",
    "region_mesh = get_region_ccf_mesh(region_id)\n",
    "region_mesh_plot = k3d.mesh(region_mesh.vertices*1000, region_mesh.faces, opacity=0.3, color=0Xf5c3bf)\n",
    "plot += region_mesh_plot\n",
    "\n",
    "# Add region of ccf mesh\n",
    "region_id = ccf_atlas.structures['RHP']['id']\n",
    "region_mesh = get_region_ccf_mesh(region_id)\n",
    "region_mesh_plot = k3d.mesh(region_mesh.vertices*1000, region_mesh.faces, opacity=0.3, color=0Xffe599)\n",
    "plot += region_mesh_plot\n",
    "\n",
    "plot.display()"
   ]
  },
  {
   "cell_type": "code",
   "execution_count": null,
   "id": "a575115d-ef06-4f53-92cf-1a3470ff6101",
   "metadata": {},
   "outputs": [],
   "source": []
  },
  {
   "cell_type": "markdown",
   "id": "55e4e2f1-5fe8-485e-b518-c67f7d3513d4",
   "metadata": {},
   "source": [
    "<div style=\"border-left: 3px solid #000; padding: 1px; padding-left: 10px; background: #F0FAFF; \">\n",
    "\n",
    "## Diversity of outputs from the same structure\n",
    "    \n",
    "Let's look at one structure - in this case a specific nucleus in the thalamus. How similar are the projection patterns of neurons from this structure? \n",
    "\n",
    "First, let's find all the neurons with soma in the nucleus, and look at the total outputs (axons endpoints) of all of these neurons.\n",
    "We'll look at a nucelus in the thalamus called \"VAL\" - the Ventral anterior-lateral complex of the thalamus.\n",
    "\n",
    "</div>"
   ]
  },
  {
   "cell_type": "code",
   "execution_count": 31,
   "id": "86821e00-947d-4fea-bd25-8f70b4dc7487",
   "metadata": {
    "tags": []
   },
   "outputs": [
    {
     "name": "stdout",
     "output_type": "stream",
     "text": [
      "{'acronym': 'VAL',\n",
      " 'id': 629,\n",
      " 'mesh': None,\n",
      " 'mesh_filename': PosixPath('/data/.brainglobe/allen_mouse_10um_v1.2/meshes/629.obj'),\n",
      " 'name': 'Ventral anterior-lateral complex of the thalamus',\n",
      " 'rgb_triplet': [255, 128, 132],\n",
      " 'structure_id_path': [997, 8, 343, 1129, 549, 864, 637, 629]}\n"
     ]
    }
   ],
   "source": [
    "pprint(ccf_atlas.structures['VAL'])\n",
    "target_ccf_id = ccf_atlas.structures['VAL']['id']"
   ]
  },
  {
   "cell_type": "markdown",
   "id": "326a524b-d5aa-4f58-b27a-3291099d39ea",
   "metadata": {},
   "source": [
    "<div style=\"padding: 1px; padding-left: 10px; background: #F0FAFF; \">\n",
    "Find all the skeletons with somas in this structure\n",
    "</div>"
   ]
  },
  {
   "cell_type": "code",
   "execution_count": 32,
   "id": "5284831c-3030-4618-a4a5-917d2d070fc8",
   "metadata": {
    "tags": []
   },
   "outputs": [
    {
     "name": "stdout",
     "output_type": "stream",
     "text": [
      "[==================================================] 1650/1650\n",
      "# Skeletons Found: 45\n"
     ]
    }
   ],
   "source": [
    "skels_subset = []\n",
    "for i, skel in enumerate(skel_list): #iterate through all the skeltons\n",
    "    progress_bar(i + 1, len(skel_list)) #visualize progress\n",
    "    if target_ccf_id in set(get_ccf_ids(ccf_atlas, skel, compartment_type=1)): #is the ccf id of the soma that of our target structure\n",
    "        skels_subset.append(skel)\n",
    "\n",
    "print(\"\\n# Skeletons Found:\", len(skels_subset))"
   ]
  },
  {
   "cell_type": "markdown",
   "id": "82d97a8e-45f2-47b9-aebb-9549817f4fba",
   "metadata": {},
   "source": [
    "<div style=\"padding: 1px; padding-left: 10px; background: #F0FAFF; \">\n",
    "We can get the axon endpoints for each of these neurons and add them to a list, and then count the number of total endpoints for each unique ccf structure, similar to how we did it for our single neuron above. We'll limit our plot to the top 15 structures.\n",
    "</div>"
   ]
  },
  {
   "cell_type": "code",
   "execution_count": 33,
   "id": "279f9efc-effa-4151-bf93-d8722ecbfac0",
   "metadata": {
    "tags": []
   },
   "outputs": [],
   "source": [
    "axon_endpoints_ccf = []\n",
    "for skel in skels_subset:\n",
    "    axon_endpoints_ccf.extend(get_ccf_ids(ccf_atlas, skel, compartment_type=2, vertex_type=\"end_points\"))\n"
   ]
  },
  {
   "cell_type": "code",
   "execution_count": 34,
   "id": "e32b0121-27a0-4db6-8f8c-c571fcc14c4b",
   "metadata": {
    "tags": []
   },
   "outputs": [
    {
     "data": {
      "image/png": "[encoded data removed]",
      "text/plain": [
       "<Figure size 1800x700 with 1 Axes>"
      ]
     },
     "metadata": {},
     "output_type": "display_data"
    }
   ],
   "source": [
    "#get the counts of endpoints for each unique location\n",
    "ids, cnts = np.unique(axon_endpoints_ccf, return_counts=True)\n",
    "\n",
    "#sort the results based on count, and order from largest to smallest\n",
    "cnts_sort = cnts[np.argsort(cnts)[::-1]]\n",
    "ids_sort = ids[np.argsort(cnts)[::-1]]\n",
    "\n",
    "# Get brain region names\n",
    "ccf_names = list()\n",
    "for ccf_id in ids_sort:\n",
    "    if ccf_id>0:\n",
    "        acronym = ccf_atlas.structures[ccf_id]['acronym']\n",
    "        ccf_names.append(acronym)\n",
    "    else:\n",
    "        ccf_names.append('NaN')\n",
    "    \n",
    "# Make plot\n",
    "plt.figure(figsize=(18, 7))\n",
    "#plot the number of endpoints, normalized to total number of endpoints\n",
    "plt.bar(ccf_names, cnts_sort/cnts_sort.sum())\n",
    "\n",
    "#limit plot to the top 15 structures\n",
    "plt.xlim(-1,15)\n",
    "\n",
    "# Add titles and labels\n",
    "plt.xticks(rotation=45, ha='right')\n",
    "plt.title(\"Axon endpoints from VAL\", fontsize=18)\n",
    "plt.xlabel(\"Structures\", fontsize=15)\n",
    "plt.ylabel(\"Fraction of axonal endpoints\", fontsize=15)\n",
    "\n",
    "\n",
    "\n",
    "# Show the plot\n",
    "plt.show()"
   ]
  },
  {
   "cell_type": "markdown",
   "id": "4f659711-cf54-4365-9d10-bdcf0525d046",
   "metadata": {},
   "source": [
    "<div style=\"padding: 1px; padding-left: 10px; background: #F0FAFF; \">\n",
    "Now let's pick two neurons from this subset to compare. We'll compare the 3rd and the 44th neurons.\n",
    "</div>"
   ]
  },
  {
   "cell_type": "code",
   "execution_count": 35,
   "id": "50540759-9173-49fa-b79a-7ba040d00760",
   "metadata": {},
   "outputs": [],
   "source": [
    "skel_a = skels_subset[3]\n",
    "ccf_a = get_ccf_ids(ccf_atlas, skel_a, compartment_type=2, vertex_type=\"end_points\")\n",
    "\n",
    "skel_b = skels_subset[44]\n",
    "ccf_b = get_ccf_ids(ccf_atlas, skel_b, compartment_type=2, vertex_type=\"end_points\")\n"
   ]
  },
  {
   "cell_type": "markdown",
   "id": "6654341d-8805-4084-be8b-d71513e4bc79",
   "metadata": {},
   "source": [
    "<div style=\"padding: 1px; padding-left: 10px; background: #F0FAFF; \">\n",
    "Count the number of endpoints for each neuron for the ccf structures identified for the total VAL outputs\n",
    "</div>"
   ]
  },
  {
   "cell_type": "code",
   "execution_count": 36,
   "id": "e0423e19-d492-4b3f-906b-1d7ecd22c0b7",
   "metadata": {
    "tags": []
   },
   "outputs": [],
   "source": [
    "a_cnt = []\n",
    "b_cnt = []\n",
    "for cid in ids_sort:\n",
    "    a_cnt.append(len(np.where(ccf_a==cid)[0])/len(ccf_a)) #find number of endpoints in that ccf region, normalize)\n",
    "    b_cnt.append(len(np.where(ccf_b==cid)[0])/len(ccf_b)) #find number of endpoints in that ccf region, normalize)\n",
    "    \n",
    "    "
   ]
  },
  {
   "cell_type": "markdown",
   "id": "8893a0ce-2376-487e-9c1b-73467314d5aa",
   "metadata": {},
   "source": [
    "<div style=\"padding: 1px; padding-left: 10px; background: #F0FAFF; \">\n",
    "Plot the fraction on endpoints for these two neurons next to the total output of VAL\n",
    "</div>"
   ]
  },
  {
   "cell_type": "code",
   "execution_count": 37,
   "id": "dfdce189-a22c-4f28-8ca4-5f9c59b1ea24",
   "metadata": {
    "tags": []
   },
   "outputs": [
    {
     "data": {
      "text/plain": [
       "<matplotlib.legend.Legend at 0x7fb312926bc0>"
      ]
     },
     "execution_count": 37,
     "metadata": {},
     "output_type": "execute_result"
    },
    {
     "data": {
      "image/png": "[encoded data removed]",
      "text/plain": [
       "<Figure size 1800x700 with 1 Axes>"
      ]
     },
     "metadata": {},
     "output_type": "display_data"
    }
   ],
   "source": [
    "plt.figure(figsize=(18, 7))\n",
    "\n",
    "#x positions\n",
    "x = np.arange(len(ccf_names))\n",
    "\n",
    "#plot the total output of VAL\n",
    "plt.bar(x, cnts_sort/cnts_sort.sum(), width=0.25, color='gray', label=\"Total VAL\")\n",
    "\n",
    "#plot the output of cell 3\n",
    "plt.bar(x+0.25, a_cnt, width=0.25, alpha=0.5, label=\"Cell 3\")\n",
    "plt.bar(x+0.5, b_cnt, width=0.25, alpha=0.5, label=\"Cell 44\")\n",
    "\n",
    "#labels and ticks\n",
    "plt.xticks(x+0.4, ccf_names, rotation=45, ha='right');\n",
    "plt.xlim(-0.5,25)\n",
    "plt.title(\"Outputs from VAL\", fontsize=18)\n",
    "plt.ylabel(\"Fraction of axon endpoints\", fontsize=15)\n",
    "plt.xlabel(\"Structures\", fontsize=15)\n",
    "plt.legend()"
   ]
  },
  {
   "cell_type": "markdown",
   "id": "a34f8e84-53a6-4e90-bf0e-004b609b7657",
   "metadata": {},
   "source": [
    "<div style=\"padding: 1px; padding-left: 10px; background: #F0FAFF; \">\n",
    "We can visualize these two neurons using the plotting logic we used above, looking at them in 3D.\n",
    "</div>"
   ]
  },
  {
   "cell_type": "code",
   "execution_count": 38,
   "id": "c380925d-9f97-48c8-a062-7e50d4dc75c8",
   "metadata": {},
   "outputs": [
    {
     "data": {
      "application/vnd.jupyter.widget-view+json": {
       "model_id": "df6905c5fa8a462fbcdd9b490ee17626",
       "version_major": 2,
       "version_minor": 0
      },
      "text/plain": [
       "Output()"
      ]
     },
     "metadata": {},
     "output_type": "display_data"
    }
   ],
   "source": [
    "# Generate plot\n",
    "plot = k3d.plot()\n",
    "\n",
    "#plot the specified skeleton\n",
    "plot_graphs([skels_subset[3]], plot)\n",
    "plot_graphs([skels_subset[44]], plot)\n",
    "\n",
    "# Add whole ccf mesh\n",
    "ccf_mesh = get_whole_ccf_mesh()\n",
    "mesh_plot = k3d.mesh(ccf_mesh.vertices*1000, ccf_mesh.faces, opacity=0.2, color=808080)\n",
    "plot += mesh_plot\n",
    "\n",
    "# Add mesh of the ccf region of the soma\n",
    "soma_ccf_id = get_ccf_ids(ccf_atlas, skels_subset[3], compartment_type=1)[0]\n",
    "region_mesh = get_region_ccf_mesh(soma_ccf_id)\n",
    "region_mesh_plot = k3d.mesh(region_mesh.vertices*1000, region_mesh.faces, opacity=0.2)\n",
    "plot += region_mesh_plot\n",
    "\n",
    "plot.display()"
   ]
  },
  {
   "cell_type": "code",
   "execution_count": null,
   "id": "13c5d91d-253e-4c7c-bd67-ff0f2133d0be",
   "metadata": {},
   "outputs": [],
   "source": []
  },
  {
   "cell_type": "code",
   "execution_count": null,
   "id": "ff855af7-fa44-4a06-9419-1279e7680359",
   "metadata": {},
   "outputs": [],
   "source": []
  },
  {
   "cell_type": "code",
   "execution_count": null,
   "id": "a6882357-f95a-4d18-b113-590dffe7b6c4",
   "metadata": {},
   "outputs": [],
   "source": []
  },
  {
   "cell_type": "code",
   "execution_count": null,
   "id": "b6cd8cae-afeb-4d6a-bf75-75b9c2028391",
   "metadata": {},
   "outputs": [],
   "source": []
  },
  {
   "cell_type": "code",
   "execution_count": null,
   "id": "f158d25b-2fb8-41d9-a1af-d16e43c6863e",
   "metadata": {},
   "outputs": [],
   "source": []
  }
 ],
 "metadata": {
  "kernelspec": {
   "display_name": "Python 3 (ipykernel)",
   "language": "python",
   "name": "python3"
  },
  "language_info": {
   "codemirror_mode": {
    "name": "ipython",
    "version": 3
   },
   "file_extension": ".py",
   "mimetype": "text/x-python",
   "name": "python",
   "nbconvert_exporter": "python",
   "pygments_lexer": "ipython3",
   "version": "3.10.12"
  }
 },
 "nbformat": 4,
 "nbformat_minor": 5
}
